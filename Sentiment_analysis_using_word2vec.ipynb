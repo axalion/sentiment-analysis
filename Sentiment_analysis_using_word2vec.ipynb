{
  "cells": [
    {
      "cell_type": "code",
      "execution_count": 1,
      "metadata": {},
      "outputs": [
        {
          "name": "stderr",
          "output_type": "stream",
          "text": [
            "[nltk_data] Downloading package stopwords to C:\\Users\\Rohit\n",
            "[nltk_data]     Sharma\\AppData\\Roaming\\nltk_data...\n",
            "[nltk_data]   Package stopwords is already up-to-date!\n",
            "[nltk_data] Downloading package punkt to C:\\Users\\Rohit\n",
            "[nltk_data]     Sharma\\AppData\\Roaming\\nltk_data...\n",
            "[nltk_data]   Package punkt is already up-to-date!\n"
          ]
        }
      ],
      "source": [
        "# Importing all the libraries\n",
        "import numpy as np\n",
        "import pandas as pd\n",
        "import random\n",
        "import scipy as sp\n",
        "from sklearn.decomposition import TruncatedSVD\n",
        "from sklearn.decomposition import PCA\n",
        "from sklearn.model_selection import train_test_split\n",
        "import matplotlib.pyplot as plt\n",
        "\n",
        "import nltk\n",
        "from nltk.corpus import stopwords\n",
        "from nltk.tokenize import word_tokenize\n",
        "import string\n",
        "nltk.download('stopwords')\n",
        "nltk.download('punkt')\n",
        "\n",
        "\n",
        "\n",
        "import gensim.downloader as api"
      ]
    },
    {
      "attachments": {},
      "cell_type": "markdown",
      "metadata": {},
      "source": [
        "### 1. Performing Binary Classification where if overall = 4,5 the our target sentiment  = \"good i.e 1\" else \"bad i.e 0\"\n",
        "### 2. Reading the data, analysing the data using Plots and summaries\n",
        "### 3. The analysis shows that the data is biased since the positive setiment is 10x more than the negative sentiment (Neutral==3 was discarded in the analysis)\n",
        "### 4. The data is then splitted to training, validation and test\n",
        "### 5. The training dataset is used as a corpus to build a co-ocurrrence matrix and word2index hashmap\n",
        "### 6. SVD was performed by using sklearn package to reduce the dimensionality of our co co-ocurrrence matrix\n",
        "### 7. Plotted a scatter plot for certain words to understand the similarity using user defined function and Glove(where only two components were considerd to build the reduced co-occurence matrix in Glove)\n",
        "### 8. The scatter plot plotted using the Co-occurence matrix gernerated by the user-defined function have better similarity index between words and similar words are closed compared to Glove implementation\n",
        "### 9. Finally k=128 components were extracted usign SVD from the original co-occurence matrix and final embeddings were generated to be used to train the model\n",
        "### 10. Final embeddibngs for both validation and test set were also generated\n",
        "### 11. Logistic regression and Newural Network was implemented\n",
        "\n",
        "### Note: After performing the validation, the best set of architecture and hyperparameters were chosen but model was not retrained on training + validation data and used directly to perform predictions on test dataset\n",
        "\n",
        "\n"
      ]
    },
    {
      "attachments": {},
      "cell_type": "markdown",
      "metadata": {},
      "source": [
        "# Task 1: Extracting features"
      ]
    },
    {
      "attachments": {},
      "cell_type": "markdown",
      "metadata": {},
      "source": [
        "### 1. Data Preprocessing"
      ]
    },
    {
      "cell_type": "code",
      "execution_count": 2,
      "metadata": {},
      "outputs": [],
      "source": [
        "data = pd.read_csv(\"D:/Stevens/CS 584/amazon_reviews.csv\")"
      ]
    },
    {
      "cell_type": "code",
      "execution_count": 3,
      "metadata": {},
      "outputs": [
        {
          "data": {
            "text/plain": [
              "(4915, 2)"
            ]
          },
          "execution_count": 3,
          "metadata": {},
          "output_type": "execute_result"
        }
      ],
      "source": [
        "data.shape"
      ]
    },
    {
      "cell_type": "code",
      "execution_count": 4,
      "metadata": {},
      "outputs": [
        {
          "data": {
            "text/html": [
              "<div>\n",
              "<style scoped>\n",
              "    .dataframe tbody tr th:only-of-type {\n",
              "        vertical-align: middle;\n",
              "    }\n",
              "\n",
              "    .dataframe tbody tr th {\n",
              "        vertical-align: top;\n",
              "    }\n",
              "\n",
              "    .dataframe thead th {\n",
              "        text-align: right;\n",
              "    }\n",
              "</style>\n",
              "<table border=\"1\" class=\"dataframe\">\n",
              "  <thead>\n",
              "    <tr style=\"text-align: right;\">\n",
              "      <th></th>\n",
              "      <th>overall</th>\n",
              "      <th>reviewText</th>\n",
              "    </tr>\n",
              "  </thead>\n",
              "  <tbody>\n",
              "    <tr>\n",
              "      <th>0</th>\n",
              "      <td>4</td>\n",
              "      <td>No issues.</td>\n",
              "    </tr>\n",
              "    <tr>\n",
              "      <th>1</th>\n",
              "      <td>5</td>\n",
              "      <td>Purchased this for my device, it worked as adv...</td>\n",
              "    </tr>\n",
              "    <tr>\n",
              "      <th>2</th>\n",
              "      <td>4</td>\n",
              "      <td>it works as expected. I should have sprung for...</td>\n",
              "    </tr>\n",
              "    <tr>\n",
              "      <th>3</th>\n",
              "      <td>5</td>\n",
              "      <td>This think has worked out great.Had a diff. br...</td>\n",
              "    </tr>\n",
              "    <tr>\n",
              "      <th>4</th>\n",
              "      <td>5</td>\n",
              "      <td>Bought it with Retail Packaging, arrived legit...</td>\n",
              "    </tr>\n",
              "  </tbody>\n",
              "</table>\n",
              "</div>"
            ],
            "text/plain": [
              "   overall                                         reviewText\n",
              "0        4                                         No issues.\n",
              "1        5  Purchased this for my device, it worked as adv...\n",
              "2        4  it works as expected. I should have sprung for...\n",
              "3        5  This think has worked out great.Had a diff. br...\n",
              "4        5  Bought it with Retail Packaging, arrived legit..."
            ]
          },
          "execution_count": 4,
          "metadata": {},
          "output_type": "execute_result"
        }
      ],
      "source": [
        "data.head()"
      ]
    },
    {
      "cell_type": "code",
      "execution_count": 5,
      "metadata": {},
      "outputs": [],
      "source": [
        "# FIltering out neutral reviews\n",
        "data_filtered = data[data['overall'] != 3]"
      ]
    },
    {
      "cell_type": "code",
      "execution_count": 6,
      "metadata": {},
      "outputs": [
        {
          "name": "stderr",
          "output_type": "stream",
          "text": [
            "C:\\Users\\Rohit Sharma\\AppData\\Local\\Temp\\ipykernel_8968\\1162351332.py:2: SettingWithCopyWarning: \n",
            "A value is trying to be set on a copy of a slice from a DataFrame.\n",
            "Try using .loc[row_indexer,col_indexer] = value instead\n",
            "\n",
            "See the caveats in the documentation: https://pandas.pydata.org/pandas-docs/stable/user_guide/indexing.html#returning-a-view-versus-a-copy\n",
            "  data_filtered['sentiment'] = data_filtered['overall'].apply(lambda x: 1 if x in [4, 5] else 0)\n"
          ]
        }
      ],
      "source": [
        "# Creating a target label \"sentiment\" conatining binary classification 0/1\n",
        "data_filtered['sentiment'] = data_filtered['overall'].apply(lambda x: 1 if x in [4, 5] else 0)"
      ]
    },
    {
      "cell_type": "code",
      "execution_count": 7,
      "metadata": {},
      "outputs": [
        {
          "data": {
            "text/html": [
              "<div>\n",
              "<style scoped>\n",
              "    .dataframe tbody tr th:only-of-type {\n",
              "        vertical-align: middle;\n",
              "    }\n",
              "\n",
              "    .dataframe tbody tr th {\n",
              "        vertical-align: top;\n",
              "    }\n",
              "\n",
              "    .dataframe thead th {\n",
              "        text-align: right;\n",
              "    }\n",
              "</style>\n",
              "<table border=\"1\" class=\"dataframe\">\n",
              "  <thead>\n",
              "    <tr style=\"text-align: right;\">\n",
              "      <th></th>\n",
              "      <th>overall</th>\n",
              "      <th>reviewText</th>\n",
              "      <th>sentiment</th>\n",
              "    </tr>\n",
              "  </thead>\n",
              "  <tbody>\n",
              "    <tr>\n",
              "      <th>0</th>\n",
              "      <td>4</td>\n",
              "      <td>No issues.</td>\n",
              "      <td>1</td>\n",
              "    </tr>\n",
              "    <tr>\n",
              "      <th>1</th>\n",
              "      <td>5</td>\n",
              "      <td>Purchased this for my device, it worked as adv...</td>\n",
              "      <td>1</td>\n",
              "    </tr>\n",
              "    <tr>\n",
              "      <th>2</th>\n",
              "      <td>4</td>\n",
              "      <td>it works as expected. I should have sprung for...</td>\n",
              "      <td>1</td>\n",
              "    </tr>\n",
              "    <tr>\n",
              "      <th>3</th>\n",
              "      <td>5</td>\n",
              "      <td>This think has worked out great.Had a diff. br...</td>\n",
              "      <td>1</td>\n",
              "    </tr>\n",
              "    <tr>\n",
              "      <th>4</th>\n",
              "      <td>5</td>\n",
              "      <td>Bought it with Retail Packaging, arrived legit...</td>\n",
              "      <td>1</td>\n",
              "    </tr>\n",
              "  </tbody>\n",
              "</table>\n",
              "</div>"
            ],
            "text/plain": [
              "   overall                                         reviewText  sentiment\n",
              "0        4                                         No issues.          1\n",
              "1        5  Purchased this for my device, it worked as adv...          1\n",
              "2        4  it works as expected. I should have sprung for...          1\n",
              "3        5  This think has worked out great.Had a diff. br...          1\n",
              "4        5  Bought it with Retail Packaging, arrived legit...          1"
            ]
          },
          "execution_count": 7,
          "metadata": {},
          "output_type": "execute_result"
        }
      ],
      "source": [
        "data_filtered.head()"
      ]
    },
    {
      "cell_type": "code",
      "execution_count": 8,
      "metadata": {},
      "outputs": [
        {
          "data": {
            "text/plain": [
              "(4773, 3)"
            ]
          },
          "execution_count": 8,
          "metadata": {},
          "output_type": "execute_result"
        }
      ],
      "source": [
        "data_filtered.shape"
      ]
    },
    {
      "cell_type": "code",
      "execution_count": 9,
      "metadata": {},
      "outputs": [
        {
          "data": {
            "text/plain": [
              "overall  reviewText  sentiment\n",
              "False    False       False        4772\n",
              "         True        False           1\n",
              "dtype: int64"
            ]
          },
          "execution_count": 9,
          "metadata": {},
          "output_type": "execute_result"
        }
      ],
      "source": [
        "data_filtered.isna().value_counts()"
      ]
    },
    {
      "cell_type": "code",
      "execution_count": 10,
      "metadata": {},
      "outputs": [
        {
          "data": {
            "text/html": [
              "<div>\n",
              "<style scoped>\n",
              "    .dataframe tbody tr th:only-of-type {\n",
              "        vertical-align: middle;\n",
              "    }\n",
              "\n",
              "    .dataframe tbody tr th {\n",
              "        vertical-align: top;\n",
              "    }\n",
              "\n",
              "    .dataframe thead th {\n",
              "        text-align: right;\n",
              "    }\n",
              "</style>\n",
              "<table border=\"1\" class=\"dataframe\">\n",
              "  <thead>\n",
              "    <tr style=\"text-align: right;\">\n",
              "      <th></th>\n",
              "      <th>overall</th>\n",
              "      <th>reviewText</th>\n",
              "      <th>sentiment</th>\n",
              "    </tr>\n",
              "  </thead>\n",
              "  <tbody>\n",
              "    <tr>\n",
              "      <th>125</th>\n",
              "      <td>5</td>\n",
              "      <td>NaN</td>\n",
              "      <td>1</td>\n",
              "    </tr>\n",
              "  </tbody>\n",
              "</table>\n",
              "</div>"
            ],
            "text/plain": [
              "     overall reviewText  sentiment\n",
              "125        5        NaN          1"
            ]
          },
          "execution_count": 10,
          "metadata": {},
          "output_type": "execute_result"
        }
      ],
      "source": [
        "data_filtered[data_filtered[\"reviewText\"].isna()]"
      ]
    },
    {
      "cell_type": "code",
      "execution_count": 11,
      "metadata": {},
      "outputs": [],
      "source": [
        "data_filtered = data_filtered.dropna()"
      ]
    },
    {
      "cell_type": "code",
      "execution_count": 12,
      "metadata": {},
      "outputs": [
        {
          "data": {
            "text/plain": [
              "overall  reviewText  sentiment\n",
              "False    False       False        4772\n",
              "dtype: int64"
            ]
          },
          "execution_count": 12,
          "metadata": {},
          "output_type": "execute_result"
        }
      ],
      "source": [
        "data_filtered.isna().value_counts()"
      ]
    },
    {
      "attachments": {},
      "cell_type": "markdown",
      "metadata": {},
      "source": [
        "#### Converting all texts to lower to maintain uniformity"
      ]
    },
    {
      "cell_type": "code",
      "execution_count": 13,
      "metadata": {
        "id": "pbfGBiwMEmb5"
      },
      "outputs": [],
      "source": [
        "for i in range(data_filtered.shape[0]):\n",
        "    data_filtered.iloc[i, 1] = data_filtered.iloc[i, 1].lower()"
      ]
    },
    {
      "cell_type": "code",
      "execution_count": 14,
      "metadata": {},
      "outputs": [
        {
          "data": {
            "text/html": [
              "<div>\n",
              "<style scoped>\n",
              "    .dataframe tbody tr th:only-of-type {\n",
              "        vertical-align: middle;\n",
              "    }\n",
              "\n",
              "    .dataframe tbody tr th {\n",
              "        vertical-align: top;\n",
              "    }\n",
              "\n",
              "    .dataframe thead th {\n",
              "        text-align: right;\n",
              "    }\n",
              "</style>\n",
              "<table border=\"1\" class=\"dataframe\">\n",
              "  <thead>\n",
              "    <tr style=\"text-align: right;\">\n",
              "      <th></th>\n",
              "      <th>overall</th>\n",
              "      <th>reviewText</th>\n",
              "      <th>sentiment</th>\n",
              "    </tr>\n",
              "  </thead>\n",
              "  <tbody>\n",
              "    <tr>\n",
              "      <th>0</th>\n",
              "      <td>4</td>\n",
              "      <td>no issues.</td>\n",
              "      <td>1</td>\n",
              "    </tr>\n",
              "    <tr>\n",
              "      <th>1</th>\n",
              "      <td>5</td>\n",
              "      <td>purchased this for my device, it worked as adv...</td>\n",
              "      <td>1</td>\n",
              "    </tr>\n",
              "    <tr>\n",
              "      <th>2</th>\n",
              "      <td>4</td>\n",
              "      <td>it works as expected. i should have sprung for...</td>\n",
              "      <td>1</td>\n",
              "    </tr>\n",
              "    <tr>\n",
              "      <th>3</th>\n",
              "      <td>5</td>\n",
              "      <td>this think has worked out great.had a diff. br...</td>\n",
              "      <td>1</td>\n",
              "    </tr>\n",
              "    <tr>\n",
              "      <th>4</th>\n",
              "      <td>5</td>\n",
              "      <td>bought it with retail packaging, arrived legit...</td>\n",
              "      <td>1</td>\n",
              "    </tr>\n",
              "    <tr>\n",
              "      <th>5</th>\n",
              "      <td>5</td>\n",
              "      <td>it's mini storage.  it doesn't do anything els...</td>\n",
              "      <td>1</td>\n",
              "    </tr>\n",
              "    <tr>\n",
              "      <th>6</th>\n",
              "      <td>5</td>\n",
              "      <td>i have it in my phone and it never skips a bea...</td>\n",
              "      <td>1</td>\n",
              "    </tr>\n",
              "    <tr>\n",
              "      <th>7</th>\n",
              "      <td>5</td>\n",
              "      <td>it's hard to believe how affordable digital ha...</td>\n",
              "      <td>1</td>\n",
              "    </tr>\n",
              "    <tr>\n",
              "      <th>8</th>\n",
              "      <td>5</td>\n",
              "      <td>works in a htc rezound.  was running short of ...</td>\n",
              "      <td>1</td>\n",
              "    </tr>\n",
              "    <tr>\n",
              "      <th>9</th>\n",
              "      <td>5</td>\n",
              "      <td>in my galaxy s4, super fast card, and am total...</td>\n",
              "      <td>1</td>\n",
              "    </tr>\n",
              "    <tr>\n",
              "      <th>10</th>\n",
              "      <td>5</td>\n",
              "      <td>i like this sd card because it can take music ...</td>\n",
              "      <td>1</td>\n",
              "    </tr>\n",
              "    <tr>\n",
              "      <th>12</th>\n",
              "      <td>5</td>\n",
              "      <td>the name of itself speaks out. go sandisk go!</td>\n",
              "      <td>1</td>\n",
              "    </tr>\n",
              "    <tr>\n",
              "      <th>13</th>\n",
              "      <td>5</td>\n",
              "      <td>solid sdhc card that is fast (at reading and w...</td>\n",
              "      <td>1</td>\n",
              "    </tr>\n",
              "    <tr>\n",
              "      <th>14</th>\n",
              "      <td>5</td>\n",
              "      <td>heard that the card's write speed is insuffici...</td>\n",
              "      <td>1</td>\n",
              "    </tr>\n",
              "    <tr>\n",
              "      <th>15</th>\n",
              "      <td>5</td>\n",
              "      <td>i bought this to use with my go pro hero 3 bla...</td>\n",
              "      <td>1</td>\n",
              "    </tr>\n",
              "    <tr>\n",
              "      <th>16</th>\n",
              "      <td>5</td>\n",
              "      <td>got this because i had a 2 gb one that filled ...</td>\n",
              "      <td>1</td>\n",
              "    </tr>\n",
              "    <tr>\n",
              "      <th>17</th>\n",
              "      <td>5</td>\n",
              "      <td>class 10 speed rating for seamless full hd vid...</td>\n",
              "      <td>1</td>\n",
              "    </tr>\n",
              "    <tr>\n",
              "      <th>18</th>\n",
              "      <td>5</td>\n",
              "      <td>the read and write speeds are better than the ...</td>\n",
              "      <td>1</td>\n",
              "    </tr>\n",
              "    <tr>\n",
              "      <th>19</th>\n",
              "      <td>5</td>\n",
              "      <td>this works with the nl1520.  no video stutteri...</td>\n",
              "      <td>1</td>\n",
              "    </tr>\n",
              "    <tr>\n",
              "      <th>20</th>\n",
              "      <td>5</td>\n",
              "      <td>works as expected.  high transfer speed.  nice...</td>\n",
              "      <td>1</td>\n",
              "    </tr>\n",
              "  </tbody>\n",
              "</table>\n",
              "</div>"
            ],
            "text/plain": [
              "    overall                                         reviewText  sentiment\n",
              "0         4                                         no issues.          1\n",
              "1         5  purchased this for my device, it worked as adv...          1\n",
              "2         4  it works as expected. i should have sprung for...          1\n",
              "3         5  this think has worked out great.had a diff. br...          1\n",
              "4         5  bought it with retail packaging, arrived legit...          1\n",
              "5         5  it's mini storage.  it doesn't do anything els...          1\n",
              "6         5  i have it in my phone and it never skips a bea...          1\n",
              "7         5  it's hard to believe how affordable digital ha...          1\n",
              "8         5  works in a htc rezound.  was running short of ...          1\n",
              "9         5  in my galaxy s4, super fast card, and am total...          1\n",
              "10        5  i like this sd card because it can take music ...          1\n",
              "12        5      the name of itself speaks out. go sandisk go!          1\n",
              "13        5  solid sdhc card that is fast (at reading and w...          1\n",
              "14        5  heard that the card's write speed is insuffici...          1\n",
              "15        5  i bought this to use with my go pro hero 3 bla...          1\n",
              "16        5  got this because i had a 2 gb one that filled ...          1\n",
              "17        5  class 10 speed rating for seamless full hd vid...          1\n",
              "18        5  the read and write speeds are better than the ...          1\n",
              "19        5  this works with the nl1520.  no video stutteri...          1\n",
              "20        5  works as expected.  high transfer speed.  nice...          1"
            ]
          },
          "execution_count": 14,
          "metadata": {},
          "output_type": "execute_result"
        }
      ],
      "source": [
        "data_filtered.head(20)"
      ]
    },
    {
      "cell_type": "code",
      "execution_count": 15,
      "metadata": {},
      "outputs": [],
      "source": [
        "# Processing the corpus and generating tokens \n",
        "\n",
        "def tokenize_review(review):\n",
        "    # Remove punctuation\n",
        "    review = review.translate(str.maketrans('', '', string.punctuation))\n",
        "\n",
        "    # Remove numbers\n",
        "    review = ''.join([i for i in review if not i.isdigit()])\n",
        "\n",
        "    # Tokenize the review\n",
        "    tokens = word_tokenize(review)\n",
        "\n",
        "    # Remove stopwords\n",
        "    stop_words = set(stopwords.words('english'))\n",
        "    tokens = [token for token in tokens if token.lower() not in stop_words]\n",
        "\n",
        "    return tokens\n",
        "\n",
        "data_filtered['tokenized_review'] = data_filtered['reviewText'].apply(tokenize_review)\n"
      ]
    },
    {
      "cell_type": "code",
      "execution_count": 16,
      "metadata": {},
      "outputs": [
        {
          "data": {
            "text/plain": [
              "0                                                [issues]\n",
              "1       [purchased, device, worked, advertised, never,...\n",
              "2       [works, expected, sprung, higher, capacity, th...\n",
              "3       [think, worked, greathad, diff, bran, gb, card...\n",
              "4       [bought, retail, packaging, arrived, legit, or...\n",
              "                              ...                        \n",
              "4910    [bought, sandisk, gb, class, use, htc, inspire...\n",
              "4911    [used, extending, capabilities, samsung, galax...\n",
              "4912    [great, card, fast, reliable, comes, optional,...\n",
              "4913    [good, amount, space, stuff, want, fits, gopro...\n",
              "4914    [ive, heard, bad, things, gb, micro, sd, card,...\n",
              "Name: tokenized_review, Length: 4772, dtype: object"
            ]
          },
          "execution_count": 16,
          "metadata": {},
          "output_type": "execute_result"
        }
      ],
      "source": [
        "data_filtered[\"tokenized_review\"]"
      ]
    },
    {
      "cell_type": "code",
      "execution_count": 17,
      "metadata": {},
      "outputs": [
        {
          "name": "stdout",
          "output_type": "stream",
          "text": [
            "Training set size: 3817\n",
            "Validation set size: 477\n",
            "Testing set size: 478\n"
          ]
        }
      ],
      "source": [
        "# Split the data into training (80%), validation(10%), and testing (10%)\n",
        "\n",
        "X = data_filtered['tokenized_review']\n",
        "y = data_filtered['sentiment']\n",
        "X_train, X_temp, y_train, y_temp = train_test_split(X, y, test_size=0.2, random_state=39)\n",
        "X_val, X_test, y_val, y_test = train_test_split(X_temp, y_temp, test_size=0.5, random_state=28)\n",
        "\n",
        "print(f\"Training set size: {len(X_train)}\")\n",
        "print(f\"Validation set size: {len(X_val)}\")\n",
        "print(f\"Testing set size: {len(X_test)}\")\n"
      ]
    },
    {
      "cell_type": "code",
      "execution_count": 18,
      "metadata": {},
      "outputs": [
        {
          "data": {
            "text/plain": [
              "2989    [nice, gb, micro, sd, card, using, one, samsun...\n",
              "2287    [exclusively, used, sandisk, extreme, cards, p...\n",
              "1114    [using, strongly, suggest, format, card, takes...\n",
              "939     [must, listen, lot, music, gowish, made, gb, m...\n",
              "1783    [needed, micro, sd, card, storage, phone, good...\n",
              "                              ...                        \n",
              "3280    [phones, internal, memory, nearly, always, ful...\n",
              "2331    [fastest, microsdhc, ive, used, got, tablet, t...\n",
              "1118    [perfect, ss, galaxy, note, great, price, reco...\n",
              "107     [bought, two, one, asus, infinity, one, samsun...\n",
              "3558    [use, hd, video, recording, work, well, frame,...\n",
              "Name: tokenized_review, Length: 3817, dtype: object"
            ]
          },
          "execution_count": 18,
          "metadata": {},
          "output_type": "execute_result"
        }
      ],
      "source": [
        "X_train"
      ]
    },
    {
      "cell_type": "code",
      "execution_count": 20,
      "metadata": {},
      "outputs": [
        {
          "data": {
            "image/png": "[encoded data removed]",
            "text/plain": [
              "<Figure size 432x432 with 1 Axes>"
            ]
          },
          "metadata": {},
          "output_type": "display_data"
        },
        {
          "data": {
            "text/plain": [
              "1    93.210394\n",
              "0     6.789606\n",
              "Name: sentiment, dtype: float64"
            ]
          },
          "execution_count": 20,
          "metadata": {},
          "output_type": "execute_result"
        }
      ],
      "source": [
        "colors_plt = ['#99ff99','#66b3ff','#ffcc99','#ff9999']\n",
        "data_filtered['sentiment'].value_counts().plot.pie(autopct='%1.1f%%', shadow=True, figsize=(6,6), colors=colors_plt)\n",
        "plt.show()\n",
        "data_filtered[\"sentiment\"].value_counts()*100/(data_filtered.shape[0])"
      ]
    },
    {
      "cell_type": "code",
      "execution_count": 21,
      "metadata": {},
      "outputs": [
        {
          "data": {
            "image/png": "[encoded data removed]",
            "text/plain": [
              "<Figure size 432x432 with 1 Axes>"
            ]
          },
          "metadata": {},
          "output_type": "display_data"
        },
        {
          "data": {
            "text/plain": [
              "1    3558\n",
              "0     259\n",
              "Name: sentiment, dtype: int64"
            ]
          },
          "execution_count": 21,
          "metadata": {},
          "output_type": "execute_result"
        }
      ],
      "source": [
        "colors_plt = ['#99ff99','#66b3ff','#ffcc99','#ff9999']\n",
        "y_train.value_counts().plot.pie(autopct='%1.1f%%', shadow=True, figsize=(6,6), colors=colors_plt)\n",
        "plt.show()\n",
        "y_train.value_counts()"
      ]
    },
    {
      "cell_type": "code",
      "execution_count": 22,
      "metadata": {},
      "outputs": [
        {
          "data": {
            "image/png": "[encoded data removed]",
            "text/plain": [
              "<Figure size 432x432 with 1 Axes>"
            ]
          },
          "metadata": {},
          "output_type": "display_data"
        },
        {
          "data": {
            "text/plain": [
              "1    450\n",
              "0     27\n",
              "Name: sentiment, dtype: int64"
            ]
          },
          "execution_count": 22,
          "metadata": {},
          "output_type": "execute_result"
        }
      ],
      "source": [
        "colors_plt = ['#99ff99','#66b3ff','#ffcc99','#ff9999']\n",
        "y_val.value_counts().plot.pie(autopct='%1.1f%%', shadow=True, figsize=(6,6), colors=colors_plt)\n",
        "plt.show()\n",
        "y_val.value_counts()"
      ]
    },
    {
      "cell_type": "code",
      "execution_count": 23,
      "metadata": {},
      "outputs": [
        {
          "data": {
            "image/png": "[encoded data removed]",
            "text/plain": [
              "<Figure size 432x432 with 1 Axes>"
            ]
          },
          "metadata": {},
          "output_type": "display_data"
        },
        {
          "data": {
            "text/plain": [
              "1    440\n",
              "0     38\n",
              "Name: sentiment, dtype: int64"
            ]
          },
          "execution_count": 23,
          "metadata": {},
          "output_type": "execute_result"
        }
      ],
      "source": [
        "colors_plt = ['#99ff99','#66b3ff','#ffcc99','#ff9999']\n",
        "y_test.value_counts().plot.pie(autopct='%1.1f%%', shadow=True, figsize=(6,6), colors=colors_plt)\n",
        "plt.show()\n",
        "y_test.value_counts()"
      ]
    },
    {
      "cell_type": "code",
      "execution_count": 24,
      "metadata": {},
      "outputs": [
        {
          "data": {
            "text/html": [
              "<div>\n",
              "<style scoped>\n",
              "    .dataframe tbody tr th:only-of-type {\n",
              "        vertical-align: middle;\n",
              "    }\n",
              "\n",
              "    .dataframe tbody tr th {\n",
              "        vertical-align: top;\n",
              "    }\n",
              "\n",
              "    .dataframe thead th {\n",
              "        text-align: right;\n",
              "    }\n",
              "</style>\n",
              "<table border=\"1\" class=\"dataframe\">\n",
              "  <thead>\n",
              "    <tr style=\"text-align: right;\">\n",
              "      <th></th>\n",
              "      <th>overall</th>\n",
              "      <th>sentiment</th>\n",
              "    </tr>\n",
              "  </thead>\n",
              "  <tbody>\n",
              "    <tr>\n",
              "      <th>count</th>\n",
              "      <td>4772.000000</td>\n",
              "      <td>4772.000000</td>\n",
              "    </tr>\n",
              "    <tr>\n",
              "      <th>mean</th>\n",
              "      <td>4.634744</td>\n",
              "      <td>0.932104</td>\n",
              "    </tr>\n",
              "    <tr>\n",
              "      <th>std</th>\n",
              "      <td>0.972732</td>\n",
              "      <td>0.251594</td>\n",
              "    </tr>\n",
              "    <tr>\n",
              "      <th>min</th>\n",
              "      <td>1.000000</td>\n",
              "      <td>0.000000</td>\n",
              "    </tr>\n",
              "    <tr>\n",
              "      <th>25%</th>\n",
              "      <td>5.000000</td>\n",
              "      <td>1.000000</td>\n",
              "    </tr>\n",
              "    <tr>\n",
              "      <th>50%</th>\n",
              "      <td>5.000000</td>\n",
              "      <td>1.000000</td>\n",
              "    </tr>\n",
              "    <tr>\n",
              "      <th>75%</th>\n",
              "      <td>5.000000</td>\n",
              "      <td>1.000000</td>\n",
              "    </tr>\n",
              "    <tr>\n",
              "      <th>max</th>\n",
              "      <td>5.000000</td>\n",
              "      <td>1.000000</td>\n",
              "    </tr>\n",
              "  </tbody>\n",
              "</table>\n",
              "</div>"
            ],
            "text/plain": [
              "           overall    sentiment\n",
              "count  4772.000000  4772.000000\n",
              "mean      4.634744     0.932104\n",
              "std       0.972732     0.251594\n",
              "min       1.000000     0.000000\n",
              "25%       5.000000     1.000000\n",
              "50%       5.000000     1.000000\n",
              "75%       5.000000     1.000000\n",
              "max       5.000000     1.000000"
            ]
          },
          "execution_count": 24,
          "metadata": {},
          "output_type": "execute_result"
        }
      ],
      "source": [
        "data_filtered.describe()"
      ]
    },
    {
      "cell_type": "code",
      "execution_count": 25,
      "metadata": {},
      "outputs": [
        {
          "name": "stdout",
          "output_type": "stream",
          "text": [
            "<class 'pandas.core.frame.DataFrame'>\n",
            "Int64Index: 4772 entries, 0 to 4914\n",
            "Data columns (total 4 columns):\n",
            " #   Column            Non-Null Count  Dtype \n",
            "---  ------            --------------  ----- \n",
            " 0   overall           4772 non-null   int64 \n",
            " 1   reviewText        4772 non-null   object\n",
            " 2   sentiment         4772 non-null   int64 \n",
            " 3   tokenized_review  4772 non-null   object\n",
            "dtypes: int64(2), object(2)\n",
            "memory usage: 186.4+ KB\n"
          ]
        }
      ],
      "source": [
        "data_filtered.info()"
      ]
    },
    {
      "cell_type": "code",
      "execution_count": 26,
      "metadata": {},
      "outputs": [
        {
          "data": {
            "text/plain": [
              "5    3921\n",
              "4     527\n",
              "1     244\n",
              "2      80\n",
              "Name: overall, dtype: int64"
            ]
          },
          "execution_count": 26,
          "metadata": {},
          "output_type": "execute_result"
        }
      ],
      "source": [
        "data_filtered[\"overall\"].value_counts()"
      ]
    },
    {
      "cell_type": "code",
      "execution_count": 27,
      "metadata": {},
      "outputs": [
        {
          "name": "stdout",
          "output_type": "stream",
          "text": [
            "Maximum number of tokens:\n",
            "['note', 'please', 'read', 'last', 'update', 'scroll', 'bottom', 'im', 'leaving', 'review', 'star', 'appears', 'help', 'others', 'purchased', 'similar', 'experiencei', 'give', 'sandisk', 'stars', 'customer', 'service', 'star', 'product', 'manufactured', 'past', 'newly', 'manufactured', 'products', 'contain', 'software', 'rom', 'fix', 'id', 'give', 'product', 'starsto', 'purchased', 'card', 'due', 'great', 'reviews', 'used', 'galaxy', 'gs', 'smartphone', 'storage', 'solution', 'problem', 'one', 'solve', 'without', 'returning', 'card', 'sandisk', 'replacement', 'warranty', 'believe', 'tried', 'everything', 'google', 'searches', 'returned', 'solutions', 'formatting', 'exfat', 'formatting', 'gs', 'copying', 'data', 'card', 'phone', 'etc', 'nothing', 'worked', 'please', 'stop', 'pulling', 'hair', 'hopefully', 'get', 'result', 'hope', 'get', 'soon', 'rmad', 'send', 'back', 'tomorrow', 'free', 'replacement', 'warrantythe', 'problem', 'confirmed', 'sandisk', 'customer', 'support', 'rep', 'asked', 'specifically', 'asked', 'used', 'gs', 'card', 'unmount', 'inadvertently', 'may', 'true', 'cards', 'manufactured', 'rom', 'patch', 'described', 'implemented', 'manufacturing', 'cause', 'data', 'become', 'corrupt', 'luckily', 'experience', 'frustrating', 'us', 'saving', 'mp', 'camera', 'pictures', 'card', 'mp', 'movies', 'stop', 'middle', 'movie', 'unmounts', 'view', 'picture', 'gallery', 'worse', 'right', 'take', 'picture', 'issue', 'experienced', 'sandisk', 'knows', 'issue', 'sandisk', 'knows', 'issue', 'replace', 'card', 'call', 'info', 'take', 'care', 'warranty', 'good', 'name', 'reason', 'want', 'keep', 'sorry', 'sandisk', 'star', 'thought', 'way', 'get', 'message', 'searching', 'solution', 'customer', 'rep', 'told', 'sandisk', 'tried', 'work', 'samsung', 'resolve', 'issue', 'samsung', 'refused', 'acknowledge', 'problem', 'exists', 'card', 'phones', 'especially', 'flagship', 'gs', 'phones', 'customer', 'rep', 'told', 'knowledge', 'card', 'works', 'fine', 'regular', 'cameras', 'samsung', 'gs', 'phones', 'cameras', 'obviously', 'even', 'worked', 'fine', 'phones', 'htc', 'etc', 'could', 'accommodate', 'gb', 'cards', 'hence', 'star', 'ratings', 'others', 'solution', 'sandisk', 'came', 'write', 'patch', 'rom', 'card', 'specifically', 'address', 'issue', 'samsung', 'gs', 'phones', 'maybe', 'samsung', 'phones', 'like', 'gs', 'assured', 'new', 'card', 'would', 'get', 'would', 'work', 'flawlessly', 'see', 'weeks', 'purchased', 'card', 'amazon', 'june', 'ones', 'currently', 'manufactured', 'one', 'get', 'new', 'patch', 'however', 'sandisk', 'manufactures', 'batches', 'like', 'industry', 'old', 'batches', 'unpatched', 'cards', 'obviously', 'exist', 'warehouses', 'asked', 'software', 'patch', 'could', 'download', 'told', 'possible', 'hence', 'hard', 'coded', 'patch', 'cards', 'romso', 'take', 'care', 'problemafter', 'speaking', 'sandisk', 'us', 'customer', 'support', 'link', 'info', 'learned', 'didgo', 'sandisk', 'site', 'call', 'consumer', 'products', 'support', 'us', 'sandisk', 'tell', 'card', 'unmounting', 'gs', 'assume', 'also', 'problem', 'experienced', 'gs', 'owners', 'confirm', 'information', 'approve', 'return', 'min', 'approval', 'window', 'mine', 'basically', 'instantaneously', 'send', 'emails', 'ups', 'return', 'label', 'instructions', 'btw', 'also', 'asked', 'magnifying', 'glass', 'id', 'serial', 'card', 'didnt', 'couldnt', 'read', 'numbers', 'super', 'small', 'printed', 'plastic', 'dont', 'believe', 'take', 'look', 'told', 'rep', 'couldnt', 'read', 'said', 'problem', 'would', 'process', 'without', 'serial', 'assume', 'send', 'new', 'replacement', 'card', 'receive', 'card', 'send', 'makes', 'sensewell', 'thats', 'problem', 'hopefully', 'solved', 'lets', 'see', 'weeks', 'rep', 'super', 'nice', 'seemed', 'like', 'familiar', 'problem', 'kudos', 'sandisk', 'taking', 'care', 'however', 'would', 'nice', 'type', 'communication', 'notice', 'issue', 'besides', 'google', 'info', 'sources', 'forums', 'etc', 'spent', 'hours', 'maybe', 'couple', 'days', 'total', 'hours', 'worth', 'thinking', 'issue', 'phone', 'data', 'transfer', 'oh', 'well', 'thats', 'goesi', 'really', 'hope', 'review', 'helps', 'problem', 'good', 'luckbtw', 'id', 'give', 'card', 'stars', 'problem', 'solved', 'patched', 'rom', 'newer', 'cards', 'data', 'transfer', 'speeds', 'awesome', 'card', 'tested', 'transferring', 'data', 'via', 'card', 'reader', 'hooked', 'computer', 'data', 'transfer', 'remaining', 'mounted', 'gs', 'issue', 'never', 'existed', 'prepatch', 'rom', 'courseupdate', 'went', 'well', 'return', 'sandisk', 'storage', 'card', 'ups', 'shipping', 'took', 'days', 'sent', 'sandisk', 'verified', 'warranty', 'claim', 'day', 'later', 'hours', 'later', 'day', 'replacement', 'card', 'shipped', 'waiting', 'new', 'card', 'expect', 'test', 'soon', 'early', 'next', 'week', 'update', 'post', 'testing', 'new', 'card', 'reference', 'ive', 'using', 'gb', 'micro', 'sd', 'hc', 'sandisk', 'card', 'gs', 'since', 'shipped', 'gb', 'card', 'obviously', 'different', 'card', 'micro', 'sd', 'xc', 'kind', 'bit', 'slower', 'access', 'speeds', 'card', 'absolutely', 'zero', 'problems', 'well', 'dont', 'count', 'basically', 'filled', 'hence', 'gb', 'option', 'great', 'gs', 'proves', 'point', 'problem', 'early', 'build', 'micro', 'sd', 'xc', 'gb', 'cardsim', 'happy', 'see', 'review', 'helped', 'others', 'good', 'luck', 'warranty', 'claim', 'experience', 'sandisk', 'customer', 'support', 'excellent', 'farupdate', 'received', 'new', 'replacement', 'sandisk', 'storage', 'card', 'days', 'ago', 'shipping', 'back', 'agreed', 'defective', 'short', 'time', 'window', 'running', 'galaxy', 'days', 'without', 'jumps', 'stutters', 'card', 'unloading', 'middle', 'picture', 'video', 'taking', 'card', 'seems', 'work', 'flawlessly', 'sandisk', 'rep', 'mentioned', 'would', 'one', 'would', 'think', 'short', 'time', 'test', 'days', 'use', 'fixed', 'already', 'would', 'dismounted', 'first', 'minutes', 'thats', 'often', 'fast', 'occurring', 'would', 'seem', 'problem', 'solved', 'new', 'sd', 'card', 'makes', 'phone', 'even', 'responsive', 'moving', 'pictures', 'gallery', 'performing', 'tasks', 'like', 'copying', 'files', 'card', 'thanks', 'sandisk', 'unless', 'update', 'review', 'next', 'week', 'know', 'problem', 'fixedgood', 'luck', 'similar', 'problems', 'know', 'get', 'fixed', 'thanks', 'sandisks', 'great', 'responsive', 'customer', 'serviceupdate', 'last', 'update', 'review', 'close', 'loop', 'new', 'replacement', 'card', 'sandisk', 'running', 'flawlessly', 'weeks', 'experienced', 'initial', 'problems', 'sandisk', 'really', 'fix', 'issues', 'new', 'batch', 'cardsupdate', 'card', 'running', 'gs', 'flawlessly', 'since', 'replacing', 'around', 'aug', 'st', 'pretty', 'good', 'track', 'record', 'far', 'months', 'appears', 'fixed', 'newly', 'manufactured', 'replacement', 'cardsfor', 'left', 'comments', 'change', 'rating', 'upwards', 'issue', 'fixed', 'see', 'addition', 'beginning', 'review', 'searching', 'solution', 'problem', 'purchased', 'product', 'people', 'start', 'star', 'reviews', 'see', 'others', 'experienced', 'especially', 'true', 'products', 'lot', 'reviews', 'beginning', 'product', 'therefore', 'think', 'leaving', 'star', 'adding', 'comments', 'beginning', 'clarify', 'reviewthanks', 'review', 'commenter', 'da', 'shocker', 'input', 'think', 'sums', 'well', 'comes', 'value', 'files', 'stored', 'media', 'like', 'thisone', 'thing', 'happy', 'one', 'star', 'rating', 'person', 'go', 'ahead', 'buy', 'one', 'take', 'tons', 'pics', 'vids', 'save', 'music', 'card', 'crashes', 'come', 'back', 'give', 'five', 'star', 'card', 'cost', 'pictures', 'vacation', 'family', 'event', 'priceless']\n",
            "781\n",
            "Minimum number of tokens:\n",
            "['yes']\n",
            "1\n"
          ]
        }
      ],
      "source": [
        "max_tokens_index = X_train.apply(len).idxmax()\n",
        "print(f\"Maximum number of tokens:\\n{X_train[max_tokens_index]}\")\n",
        "print(len(X_train[max_tokens_index]))\n",
        "\n",
        "min_tokens_index = X_train.apply(len).idxmin()\n",
        "print(f\"Minimum number of tokens:\\n{X_train[min_tokens_index]}\")\n",
        "print(len(X_train[min_tokens_index]))\n"
      ]
    },
    {
      "cell_type": "code",
      "execution_count": 28,
      "metadata": {},
      "outputs": [
        {
          "name": "stdout",
          "output_type": "stream",
          "text": [
            "Maximum number of tokens:\n",
            "['primary', 'reason', 'buying', 'extra', 'capacitysandisk', 'ultra', 'gb', 'microsdxc', 'class', 'card', 'use', 'insamsung', 'galaxy', 'tab', 'inch', 'model', 'gtpand', 'happy', 'share', 'get', 'work', 'flawlessly', 'initial', 'glitches', 'read', 'belowfirstly', 'need', 'aware', 'samsung', 'tablet', 'model', 'gtp', 'currently', 'runs', 'android', 'os', 'kernel', 'build', 'number', 'jrocpueclkjelly', 'bean', 'experiences', 'shared', 'level', 'android', 'os', 'experiences', 'may', 'vary', 'depending', 'version', 'os', 'running', 'sandisk', 'ultra', 'gb', 'microsdxc', 'card', 'purchased', 'amazon', 'retail', 'packaging', 'gets', 'recognized', 'fine', 'however', 'tablets', 'media', 'device', 'aka', 'mtp', 'application', 'attempts', 'talk', 'pc', 'via', 'usb', 'cable', 'tablet', 'simply', 'reboots', 'card', 'presented', 'pc', 'really', 'strange', 'indeedthis', 'baffled', 'couple', 'hours', 'firstly', 'attempted', 'format', 'card', 'exfat', 'pc', 'formatted', 'fine', 'attempted', 'use', 'tablet', 'see', 'behavioral', 'oddity', 'instantaneous', 'reboot', 'tablet', 'mtp', 'application', 'tries', 'communicate', 'pc', 'made', 'investigate', 'issue', 'determined', 'root', 'cause', 'fact', 'sandisk', 'seen', 'factory', 'format', 'card', 'exfat', 'also', 'somehow', 'seen', 'include', 'offset', 'mb', 'beginning', 'card', 'shows', 'mb', 'unallocated', 'region', 'initial', 'sectors', 'card', 'windows', 'disk', 'management', 'toolthe', 'solution', 'get', 'rid', 'unallocated', 'mb', 'partition', 'card', 'could', 'pc', 'might', 'require', 'windows', 'command', 'line', 'experience', 'using', 'diskpart', 'utility', 'want', 'confuse', 'people', 'process', 'novice', 'users', 'process', 'simple', 'insert', 'card', 'tablet', 'use', 'native', 'sd', 'card', 'format', 'tool', 'settings', 'android', 'os', 'get', 'rid', 'mb', 'partition', 'happily', 'remount', 'simple', 'process', 'mtp', 'application', 'works', 'fine', 'pc', 'transfer', 'files', 'sd', 'card', 'without', 'strange', 'reboot', 'phenomenonnot', 'sure', 'sandisk', 'formats', 'class', 'card', 'fashion', 'never', 'class', 'cards', 'earlier', 'theres', 'got', 'ta', 'technical', 'explanation', 'include', 'mb', 'partition', 'sandisk', 'give', 'end', 'reformat', 'card', 'tablet', 'defaults', 'exfat', 'card', 'seen', 'work', 'finebottomlinethis', 'awesome', 'gb', 'capacity', 'microsd', 'card', 'reputed', 'manufacturer', 'budget', 'minded', 'people', 'gets', 'job', 'done', 'beautifully', 'read', 'write', 'speeds', 'adequate', 'enough', 'audiovideo', 'picture', 'file', 'formats', 'tablet', 'glitch', 'mentioned', 'forced', 'give', 'four', 'stars', 'instead', 'five', 'stars', 'let', 'stop', 'making', 'decision', 'buy', 'ithighly', 'recommendedcheers']\n",
            "273\n",
            "Minimum number of tokens:\n",
            "['whats', 'expected']\n",
            "2\n"
          ]
        }
      ],
      "source": [
        "max_tokens_index = X_val.apply(len).idxmax()\n",
        "print(f\"Maximum number of tokens:\\n{X_val[max_tokens_index]}\")\n",
        "print(len(X_val[max_tokens_index]))\n",
        "\n",
        "min_tokens_index = X_val.apply(len).idxmin()\n",
        "print(f\"Minimum number of tokens:\\n{X_val[min_tokens_index]}\")\n",
        "print(len(X_val[min_tokens_index]))"
      ]
    },
    {
      "cell_type": "code",
      "execution_count": 29,
      "metadata": {},
      "outputs": [
        {
          "name": "stdout",
          "output_type": "stream",
          "text": [
            "Maximum number of tokens:\n",
            "['bought', 'gb', 'version', 'card', 'use', 'gopro', 'hero', 'black', 'edition', 'didnt', 'work', 'card', 'worked', 'ok', 'camera', 'set', 'resolution', 'lower', 'bit', 'rates', 'eg', 'worked', 'fine', 'p', 'protune', 'p', 'protune', 'however', 'p', 'protune', 'bitrate', 'shy', 'mbs', 'mode', 'much', 'higher', 'protune', 'turned', 'nothing', 'trouble', 'camera', 'would', 'sometime', 'work', 'sometime', 'randomly', 'stop', 'recording', 'obvious', 'reason', 'first', 'suspected', 'camera', 'testing', 'different', 'sd', 'cards', 'ended', 'sandisks', 'card', 'fault', 'spare', 'card', 'old', 'cheap', 'gb', 'pny', 'also', 'class', 'worked', 'fine', 'conditions', 'camera', 'settingsonce', 'obvious', 'problem', 'card', 'found', 'people', 'gopros', 'forums', 'trouble', 'specific', 'card', 'well', 'well', 'always', 'find', 'figure', 'right', 'anyhow', 'speed', 'tests', 'card', 'simple', 'write', 'gb', 'file', 'full', 'zeros', 'using', 'unix', 'dd', 'utility', 'copy', 'gb', 'zeros', 'devzero', 'else', 'would', 'find', 'many', 'zeros', 'onto', 'file', 'card', 'result', 'average', 'sandisks', 'card', 'would', 'manage', 'mbs', 'barely', 'bar', 'class', 'card', 'however', 'average', 'gb', 'write', 'test', 'speed', 'oscillating', 'many', 'spikes', 'drops', 'drops', 'low', 'mbs', 'uh', 'thought', 'write', 'speed', 'class', 'card', 'never', 'dip', 'mbs', 'comparison', 'old', 'cheap', 'class', 'pny', 'card', 'chugging', 'along', 'constant', 'mbs', 'test', 'spikes', 'drops', 'speedthe', 'card', 'probably', 'work', 'fine', 'devices', 'bitrates', 'recording', 'p', 'video', 'often', 'low', 'enough', 'andor', 'camera', 'might', 'huge', 'buffer', 'want', 'use', 'record', 'video', 'high', 'bitrates', 'device', 'doesnt', 'huge', 'buffer', 'compensate', 'speed', 'bumps', 'card', 'may', 'run', 'trouble', 'wary', 'using', 'hero', 'modes', 'higher', 'bit', 'rates', 'eg', 'p', 'protune', 'enabledsandisks', 'website', 'lists', 'part', 'numbers', 'sdsdquig', 'adapter', 'sdsdquag', 'without', 'adapter', 'conflicts', 'product', 'description', 'amazon', 'likely', 'amazon', 'getting', 'product', 'description', 'right', 'bit', 'common', 'thing', 'interesting', 'noteupdate', 'apr', 'numbers', 'testing', 'card', 'test', 'extremely', 'simple', 'write', 'gb', 'zeros', 'onto', 'card', 'using', 'standard', 'unix', 'dd', 'command', 'read', 'kb', 'blocks', 'zeroes', 'special', 'device', 'devzero', 'write', 'onto', 'card', 'kb', 'gb', 'dd', 'displays', 'transfer', 'stats', 'finishes', 'dd', 'running', 'run', 'iostat', 'second', 'terminal', 'displaying', 'second', 'interval', 'stats', 'measure', 'current', 'speed', 'done', 'mac', 'dd', 'command', 'line', 'used', 'asis', 'repeat', 'test', 'linux', 'system', 'however', 'iostat', 'command', 'different', 'linux', 'would', 'need', 'modified', 'slightly', 'choose', 'kb', 'block', 'size', 'seems', 'device', 'drivers', 'merges', 'sequential', 'writes', 'anyhow', 'using', 'different', 'block', 'sizes', 'results', 'comparable', 'dd', 'ifdevzero', 'oftest', 'bs', 'count', 'records', 'records', 'bytes', 'transferred', 'secs', 'bytessecso', 'mbs', 'good', 'right', 'wrong', 'iostat', 'running', 'parallel', 'dd', 'command', 'recorded', 'iostat', 'w', 'diskdiskkbt', 'tps', 'mbs', 'dd', 'finishes', 'writing', 'gb', 'zeros', 'card', 'imo', 'last', 'column', 'never', 'dip', 'mbs', 'card', 'labeled', 'classfor', 'comparison', 'test', 'run', 'samsung', 'pro', 'gb', 'microsd', 'card', 'dd', 'ifdevzero', 'oftest', 'bs', 'count', 'records', 'records', 'bytes', 'transferred', 'secs', 'bytessec', 'iostat', 'w', 'diskdiskkbt', 'tps', 'mbs', 'dd', 'finishes', 'writing', 'gb', 'zeros', 'card', 'samsung', 'average', 'x', 'faster', 'importantly', 'speed', 'much', 'constant', 'critically', 'important', 'never', 'dips', 'mbs']\n",
            "400\n",
            "Minimum number of tokens:\n",
            "['problems']\n",
            "1\n"
          ]
        }
      ],
      "source": [
        "max_tokens_index = X_test.apply(len).idxmax()\n",
        "print(f\"Maximum number of tokens:\\n{X_test[max_tokens_index]}\")\n",
        "print(len(X_test[max_tokens_index]))\n",
        "\n",
        "min_tokens_index = X_test.apply(len).idxmin()\n",
        "print(f\"Minimum number of tokens:\\n{X_test[min_tokens_index]}\")\n",
        "print(len(X_test[min_tokens_index]))"
      ]
    },
    {
      "attachments": {},
      "cell_type": "markdown",
      "metadata": {},
      "source": [
        "## 2. Representation of Texts: word vectors (40 points)"
      ]
    },
    {
      "cell_type": "code",
      "execution_count": 30,
      "metadata": {},
      "outputs": [],
      "source": [
        "# Defining a function to return set of unique words in the corpus\n",
        "def get_vacab(corpus):\n",
        "    corpus_words = list(set(x for i in corpus for x in i))\n",
        "    corpus_words = sorted(corpus_words)\n",
        "    return corpus_words"
      ]
    },
    {
      "cell_type": "code",
      "execution_count": 31,
      "metadata": {},
      "outputs": [],
      "source": [
        "#  Defining a function to calculate the co-occurence matrix and generating hashmap\n",
        "def compute_co_occurrence_matrix(corpus, window_size=4):\n",
        "    word2index = {}\n",
        "    corpus_words = get_vacab(corpus)\n",
        "\n",
        "    # The below function generates a hashmap of tokens and it's corresponding index\n",
        "    for index, element in enumerate(corpus_words):\n",
        "        if element not in word2index:\n",
        "            word2index[element] = index\n",
        "\n",
        "    co_occurrence_matrix = np.zeros((len(corpus_words), len(corpus_words)))\n",
        "\n",
        "    for review in corpus:\n",
        "        for index, word in enumerate(review):\n",
        "            # Since the corpus has varied length of tokens, we want to ensure that correct indexes\n",
        "            # were used to calculate the co-occurence matrix so defining conditions to get start and end indexes for calculation \n",
        "            start = max(0, index - window_size)\n",
        "            end = min(len(review), index + window_size + 1)\n",
        "\n",
        "            for word_i in range(start, end):\n",
        "                if word_i != index:\n",
        "                    token = review[word_i]\n",
        "                    if word in word2index and token in word2index:\n",
        "                        co_occurrence_matrix[word2index[word]][word2index[token]] += 1\n",
        "    return co_occurrence_matrix, word2index\n"
      ]
    },
    {
      "cell_type": "code",
      "execution_count": 32,
      "metadata": {},
      "outputs": [],
      "source": [
        "co_occurrence_matrix , word2index = compute_co_occurrence_matrix(X_train, window_size=4)"
      ]
    },
    {
      "cell_type": "code",
      "execution_count": 33,
      "metadata": {},
      "outputs": [
        {
          "data": {
            "text/plain": [
              "(8390, 8390)"
            ]
          },
          "execution_count": 33,
          "metadata": {},
          "output_type": "execute_result"
        }
      ],
      "source": [
        "co_occurrence_matrix.shape"
      ]
    },
    {
      "cell_type": "code",
      "execution_count": 34,
      "metadata": {},
      "outputs": [],
      "source": [
        "# Defining a function to reduce the dimensionality of Co-occurence matrix to K dimesnion using SVD from sklearn library\n",
        "def reduce_to_k_dim(M, k):\n",
        "    svd = TruncatedSVD(n_components=k, n_iter=10, random_state=89)\n",
        "    M_reduced = svd.fit_transform(M)\n",
        "    return M_reduced"
      ]
    },
    {
      "cell_type": "code",
      "execution_count": 35,
      "metadata": {},
      "outputs": [],
      "source": [
        "k = 150\n",
        "M_reduced = reduce_to_k_dim(co_occurrence_matrix, k)"
      ]
    },
    {
      "cell_type": "code",
      "execution_count": 36,
      "metadata": {},
      "outputs": [
        {
          "data": {
            "text/plain": [
              "(8390, 150)"
            ]
          },
          "execution_count": 36,
          "metadata": {},
          "output_type": "execute_result"
        }
      ],
      "source": [
        "M_reduced.shape"
      ]
    },
    {
      "cell_type": "code",
      "execution_count": 37,
      "metadata": {},
      "outputs": [
        {
          "data": {
            "text/plain": [
              "(150,)"
            ]
          },
          "execution_count": 37,
          "metadata": {},
          "output_type": "execute_result"
        }
      ],
      "source": [
        "M_reduced[0].shape"
      ]
    },
    {
      "cell_type": "code",
      "execution_count": 38,
      "metadata": {},
      "outputs": [],
      "source": [
        "# Defining a function to plot a scatter plot for a given set of words\n",
        "\n",
        "def plot_embeddings(M_reduced, word2index, words_to_plot):\n",
        "    indices_to_plot = [word2index[word] for word in words_to_plot]\n",
        "    words_to_plot_coords = M_reduced[indices_to_plot]\n",
        "    print(M_reduced[indices_to_plot].shape)\n",
        "\n",
        "    plt.figure(figsize=(10, 8))\n",
        "    plt.scatter(words_to_plot_coords[:, 0], words_to_plot_coords[:, 1], c='blue', edgecolors='k')\n",
        "    for word, coords in zip(words_to_plot, words_to_plot_coords):\n",
        "        plt.text(coords[0], coords[1], word)\n",
        "\n",
        "    plt.grid(True)\n",
        "    plt.show()\n"
      ]
    },
    {
      "cell_type": "code",
      "execution_count": 39,
      "metadata": {},
      "outputs": [
        {
          "name": "stdout",
          "output_type": "stream",
          "text": [
            "(10, 150)\n"
          ]
        },
        {
          "data": {
            "image/png": "[encoded data removed]",
            "text/plain": [
              "<Figure size 720x576 with 1 Axes>"
            ]
          },
          "metadata": {
            "needs_background": "light"
          },
          "output_type": "display_data"
        }
      ],
      "source": [
        "# Given set of words mentioned in the assignment that needs to plotted in the scatter plot\n",
        "words_to_plot = ['purchase', 'buy', 'work', 'got', 'ordered', 'received', 'product', 'item', 'deal', 'use']\n",
        "\n",
        "plot_embeddings(M_reduced, word2index, words_to_plot)\n"
      ]
    },
    {
      "attachments": {},
      "cell_type": "markdown",
      "metadata": {},
      "source": [
        "### 2. Prediction-based word vectors from Glove"
      ]
    },
    {
      "cell_type": "code",
      "execution_count": 40,
      "metadata": {},
      "outputs": [
        {
          "name": "stdout",
          "output_type": "stream",
          "text": [
            "Loaded vocab size 400000\n"
          ]
        }
      ],
      "source": [
        "# Loading the relevant models to implement Glove\n",
        "def load_embedding_model():\n",
        "    wv_from_bin = api.load(\"glove-wiki-gigaword-200\")\n",
        "    print(\"Loaded vocab size %i\" % len(list(wv_from_bin.index_to_key)))\n",
        "    return wv_from_bin\n",
        "wv_from_bin = load_embedding_model()"
      ]
    },
    {
      "cell_type": "code",
      "execution_count": 41,
      "metadata": {},
      "outputs": [],
      "source": [
        "def get_matrix_of_vectors(wv_from_bin, required_words):\n",
        "    \"\"\" Put the GloVe vectors into a matrix M.\n",
        "        Param:\n",
        "            wv_from_bin: KeyedVectors object; the 400000 GloVe vectors loaded from file\n",
        "        Return:\n",
        "            M: numpy matrix shape (num words, 200) containing the vectors\n",
        "            word2ind: dictionary mapping each word to its row number in M\n",
        "    \"\"\"\n",
        "    import random\n",
        "    words = list(wv_from_bin.index_to_key)\n",
        "    print(\"Shuffling words ...\")\n",
        "    random.seed(225)\n",
        "    random.shuffle(words)\n",
        "    words = words[:10000]\n",
        "    print(\"Putting %i words into word2ind and matrix M...\" % len(words))\n",
        "    word2ind = {}\n",
        "    M = []\n",
        "    curInd = 0\n",
        "    for w in words:\n",
        "        try:\n",
        "            M.append(wv_from_bin.get_vector(w))\n",
        "            word2ind[w] = curInd\n",
        "            curInd += 1\n",
        "        except KeyError:\n",
        "            continue\n",
        "    for w in required_words:\n",
        "        if w in words:\n",
        "            continue\n",
        "        try:\n",
        "            M.append(wv_from_bin.get_vector(w))\n",
        "            word2ind[w] = curInd\n",
        "            curInd += 1\n",
        "        except KeyError:\n",
        "            continue\n",
        "    M = np.stack(M)\n",
        "    print(\"Done.\")\n",
        "\n",
        "    return M, word2ind"
      ]
    },
    {
      "cell_type": "code",
      "execution_count": 42,
      "metadata": {},
      "outputs": [],
      "source": [
        "# This function was designed to perform some testing and needs to skipped\n",
        "\n",
        "# def get_matrix_of_vectors(wv_from_bin, required_words):\n",
        "#     \"\"\" Put the GloVe vectors into a matrix M.\n",
        "#         Param:\n",
        "#             wv_from_bin: KeyedVectors object; the 400000 GloVe vectors loaded from file\n",
        "#         Return:\n",
        "#             M: numpy matrix shape (num words, 200) containing the vectors\n",
        "#             word2ind: dictionary mapping each word to its row number in M\n",
        "#     \"\"\"\n",
        "#     word2ind = {}#{required_words[i]:i for i in range(len(required_words))}\n",
        "#     M=[]\n",
        "#     for i in range(len(required_words)):\n",
        "#         if required_words[i]in wv_from_bin.index_to_key:\n",
        "#             M.append(wv_from_bin.get_vector(required_words[i]))\n",
        "#             word2ind[required_words[i]]=len(M)-1\n",
        "#     M=np.stack(M)\n",
        "#     return M, word2ind"
      ]
    },
    {
      "cell_type": "code",
      "execution_count": 43,
      "metadata": {},
      "outputs": [
        {
          "name": "stdout",
          "output_type": "stream",
          "text": [
            "Shuffling words ...\n",
            "Putting 10000 words into word2ind and matrix M...\n",
            "Done.\n"
          ]
        }
      ],
      "source": [
        "M, word2ind = get_matrix_of_vectors(wv_from_bin,get_vacab(X_train))"
      ]
    },
    {
      "cell_type": "code",
      "execution_count": 44,
      "metadata": {},
      "outputs": [
        {
          "data": {
            "text/plain": [
              "(15668, 200)"
            ]
          },
          "execution_count": 44,
          "metadata": {},
          "output_type": "execute_result"
        }
      ],
      "source": [
        "M.shape"
      ]
    },
    {
      "cell_type": "code",
      "execution_count": 45,
      "metadata": {},
      "outputs": [],
      "source": [
        "k = 2\n",
        "M_reduced_1 = reduce_to_k_dim(M, k)"
      ]
    },
    {
      "cell_type": "code",
      "execution_count": 46,
      "metadata": {},
      "outputs": [
        {
          "name": "stdout",
          "output_type": "stream",
          "text": [
            "(10, 2)\n"
          ]
        },
        {
          "data": {
            "image/png": "[encoded data removed]",
            "text/plain": [
              "<Figure size 720x576 with 1 Axes>"
            ]
          },
          "metadata": {
            "needs_background": "light"
          },
          "output_type": "display_data"
        }
      ],
      "source": [
        "plot_embeddings(M_reduced_1, word2ind, words_to_plot)"
      ]
    },
    {
      "attachments": {},
      "cell_type": "markdown",
      "metadata": {},
      "source": [
        "#### 2) d. Observations between plots\n",
        "\n",
        "##### 1. Since we are reducing the k dimensions to 2 in Glove the words are separated more in the scatter plot compared to the previous scatter plot"
      ]
    },
    {
      "attachments": {},
      "cell_type": "markdown",
      "metadata": {},
      "source": [
        "### Task 2: Sentiment Classification Algorithms\n",
        "#### Perform sentiment analysis with classification"
      ]
    },
    {
      "cell_type": "code",
      "execution_count": 47,
      "metadata": {},
      "outputs": [],
      "source": [
        "k = 128\n",
        "M_reduced_2 = reduce_to_k_dim(co_occurrence_matrix, k)"
      ]
    },
    {
      "cell_type": "code",
      "execution_count": 48,
      "metadata": {},
      "outputs": [],
      "source": [
        "review_embeddings = []\n",
        "# Generating final emebeddings of the training dataset that can be fed to the model \n",
        "for review in X_train:\n",
        "    # Getting indices of words in the review\n",
        "    word_indices = [word2index[word] for word in review if word in word2index]\n",
        "\n",
        "    if not word_indices:\n",
        "        continue\n",
        "\n",
        "    # Get word embeddings for the review\n",
        "    review_word_embeddings = M_reduced_2[word_indices]\n",
        "\n",
        "    # Averaging the embedding vector for all the embedings in a datapoint\n",
        "    review_embedding = np.mean(review_word_embeddings, axis=0)\n",
        "\n",
        "    review_embeddings.append(review_embedding)\n",
        "\n",
        "final_embeddings_train  = np.stack(review_embeddings)\n",
        "\n"
      ]
    },
    {
      "cell_type": "code",
      "execution_count": 49,
      "metadata": {},
      "outputs": [
        {
          "data": {
            "text/plain": [
              "(3817, 128)"
            ]
          },
          "execution_count": 49,
          "metadata": {},
          "output_type": "execute_result"
        }
      ],
      "source": [
        "final_embeddings_train.shape"
      ]
    },
    {
      "cell_type": "code",
      "execution_count": 50,
      "metadata": {},
      "outputs": [
        {
          "data": {
            "text/plain": [
              "2989    1\n",
              "2287    0\n",
              "1114    1\n",
              "939     1\n",
              "1783    1\n",
              "       ..\n",
              "3280    1\n",
              "2331    1\n",
              "1118    1\n",
              "107     1\n",
              "3558    1\n",
              "Name: sentiment, Length: 3817, dtype: int64"
            ]
          },
          "execution_count": 50,
          "metadata": {},
          "output_type": "execute_result"
        }
      ],
      "source": [
        "y_train"
      ]
    },
    {
      "cell_type": "code",
      "execution_count": 51,
      "metadata": {},
      "outputs": [],
      "source": [
        "review_embeddings = []\n",
        "\n",
        "for review in X_val:\n",
        "    word_indices = [word2index[word] for word in review if word in word2index]\n",
        "\n",
        "    if not word_indices:\n",
        "        continue\n",
        "\n",
        "    review_word_embeddings = M_reduced_2[word_indices]\n",
        "    review_embedding = np.mean(review_word_embeddings, axis=0)\n",
        "    review_embeddings.append(review_embedding)\n",
        "final_embeddings_val  = np.stack(review_embeddings)"
      ]
    },
    {
      "cell_type": "code",
      "execution_count": 52,
      "metadata": {},
      "outputs": [
        {
          "data": {
            "text/plain": [
              "(477, 128)"
            ]
          },
          "execution_count": 52,
          "metadata": {},
          "output_type": "execute_result"
        }
      ],
      "source": [
        "final_embeddings_val.shape"
      ]
    },
    {
      "cell_type": "code",
      "execution_count": 53,
      "metadata": {},
      "outputs": [],
      "source": [
        "review_embeddings = []\n",
        "\n",
        "for review in X_test:\n",
        "    word_indices = [word2index[word] for word in review if word in word2index]\n",
        "\n",
        "    if not word_indices:\n",
        "        continue\n",
        "\n",
        "    review_word_embeddings = M_reduced_2[word_indices]\n",
        "    review_embedding = np.mean(review_word_embeddings, axis=0)\n",
        "    review_embeddings.append(review_embedding)\n",
        "final_embeddings_test  = np.stack(review_embeddings)"
      ]
    },
    {
      "cell_type": "code",
      "execution_count": 54,
      "metadata": {},
      "outputs": [
        {
          "data": {
            "text/plain": [
              "(478, 128)"
            ]
          },
          "execution_count": 54,
          "metadata": {},
          "output_type": "execute_result"
        }
      ],
      "source": [
        "final_embeddings_test.shape"
      ]
    },
    {
      "cell_type": "code",
      "execution_count": 55,
      "metadata": {},
      "outputs": [],
      "source": [
        "import warnings\n",
        "warnings.filterwarnings(\"ignore\")"
      ]
    },
    {
      "cell_type": "code",
      "execution_count": 56,
      "metadata": {},
      "outputs": [
        {
          "name": "stdout",
          "output_type": "stream",
          "text": [
            "\n",
            "Report for C=0.1\n",
            "Validation Accuracy: 0.9538784067085954\n",
            "Validation AUC: 0.6970370370370371\n",
            "Validation Classification Report:\n",
            "               precision    recall  f1-score   support\n",
            "\n",
            "           0       0.65      0.41      0.50        27\n",
            "           1       0.97      0.99      0.98       450\n",
            "\n",
            "    accuracy                           0.95       477\n",
            "   macro avg       0.81      0.70      0.74       477\n",
            "weighted avg       0.95      0.95      0.95       477\n",
            "\n"
          ]
        },
        {
          "data": {
            "image/png": "[encoded data removed]",
            "text/plain": [
              "<Figure size 432x288 with 2 Axes>"
            ]
          },
          "metadata": {
            "needs_background": "light"
          },
          "output_type": "display_data"
        },
        {
          "name": "stdout",
          "output_type": "stream",
          "text": [
            "\n",
            "Report for C=0.3\n",
            "Validation Accuracy: 0.9580712788259959\n",
            "Validation AUC: 0.7340740740740741\n",
            "Validation Classification Report:\n",
            "               precision    recall  f1-score   support\n",
            "\n",
            "           0       0.68      0.48      0.57        27\n",
            "           1       0.97      0.99      0.98       450\n",
            "\n",
            "    accuracy                           0.96       477\n",
            "   macro avg       0.83      0.73      0.77       477\n",
            "weighted avg       0.95      0.96      0.95       477\n",
            "\n"
          ]
        },
        {
          "data": {
            "image/png": "[encoded data removed]",
            "text/plain": [
              "<Figure size 432x288 with 2 Axes>"
            ]
          },
          "metadata": {
            "needs_background": "light"
          },
          "output_type": "display_data"
        },
        {
          "name": "stdout",
          "output_type": "stream",
          "text": [
            "\n",
            "Report for C=0.5\n",
            "Validation Accuracy: 0.9517819706498952\n",
            "Validation AUC: 0.7307407407407407\n",
            "Validation Classification Report:\n",
            "               precision    recall  f1-score   support\n",
            "\n",
            "           0       0.59      0.48      0.53        27\n",
            "           1       0.97      0.98      0.97       450\n",
            "\n",
            "    accuracy                           0.95       477\n",
            "   macro avg       0.78      0.73      0.75       477\n",
            "weighted avg       0.95      0.95      0.95       477\n",
            "\n"
          ]
        },
        {
          "data": {
            "image/png": "[encoded data removed]",
            "text/plain": [
              "<Figure size 432x288 with 2 Axes>"
            ]
          },
          "metadata": {
            "needs_background": "light"
          },
          "output_type": "display_data"
        },
        {
          "name": "stdout",
          "output_type": "stream",
          "text": [
            "\n",
            "Report for C=0.7\n",
            "Validation Accuracy: 0.9517819706498952\n",
            "Validation AUC: 0.7307407407407407\n",
            "Validation Classification Report:\n",
            "               precision    recall  f1-score   support\n",
            "\n",
            "           0       0.59      0.48      0.53        27\n",
            "           1       0.97      0.98      0.97       450\n",
            "\n",
            "    accuracy                           0.95       477\n",
            "   macro avg       0.78      0.73      0.75       477\n",
            "weighted avg       0.95      0.95      0.95       477\n",
            "\n"
          ]
        },
        {
          "data": {
            "image/png": "[encoded data removed]",
            "text/plain": [
              "<Figure size 432x288 with 2 Axes>"
            ]
          },
          "metadata": {
            "needs_background": "light"
          },
          "output_type": "display_data"
        },
        {
          "name": "stdout",
          "output_type": "stream",
          "text": [
            "\n",
            "Report for C=1.0\n",
            "Validation Accuracy: 0.949685534591195\n",
            "Validation AUC: 0.7296296296296296\n",
            "Validation Classification Report:\n",
            "               precision    recall  f1-score   support\n",
            "\n",
            "           0       0.57      0.48      0.52        27\n",
            "           1       0.97      0.98      0.97       450\n",
            "\n",
            "    accuracy                           0.95       477\n",
            "   macro avg       0.77      0.73      0.75       477\n",
            "weighted avg       0.95      0.95      0.95       477\n",
            "\n"
          ]
        },
        {
          "data": {
            "image/png": "[encoded data removed]",
            "text/plain": [
              "<Figure size 432x288 with 2 Axes>"
            ]
          },
          "metadata": {
            "needs_background": "light"
          },
          "output_type": "display_data"
        }
      ],
      "source": [
        "from sklearn.linear_model import LogisticRegression\n",
        "from sklearn.metrics import accuracy_score, classification_report,roc_auc_score,confusion_matrix, plot_confusion_matrix\n",
        "\n",
        "# The hyperparameter C that controls the strength of regularization is tuned and the best model is selected\n",
        "\n",
        "for C in [0.1, 0.3, 0.5, 0.7 ,1.0]:\n",
        "    model1 = LogisticRegression(penalty='l2', C=C, max_iter=1000)\n",
        "    model1.fit(final_embeddings_train, y_train)\n",
        "\n",
        "    y_val_pred = model1.predict(final_embeddings_val)\n",
        "\n",
        "    # Print reports for each C value including but not limited to accuracy, classification report, auc and cnfusion matrix\n",
        "    print(f\"\\nReport for C={C}\")\n",
        "    print(\"Validation Accuracy:\", accuracy_score(y_val, y_val_pred))\n",
        "    print(\"Validation AUC:\", roc_auc_score(y_val, y_val_pred))\n",
        "    print(\"Validation Classification Report:\\n\", classification_report(y_val, y_val_pred))\n",
        "    conf_matrix = confusion_matrix(y_val, y_val_pred)\n",
        "    plot_confusion_matrix(model1, final_embeddings_val, y_val, cmap='Blues')\n",
        "    plt.title(f'Confusion Matrix for C={C}')\n",
        "    plt.show()"
      ]
    },
    {
      "cell_type": "code",
      "execution_count": 57,
      "metadata": {},
      "outputs": [
        {
          "name": "stdout",
          "output_type": "stream",
          "text": [
            "Test Accuracy: 0.9351464435146444\n",
            "Test AUC: 0.7483851674641149\n",
            "Test Classification Report:\n",
            "               precision    recall  f1-score   support\n",
            "\n",
            "           0       0.61      0.53      0.56        38\n",
            "           1       0.96      0.97      0.96       440\n",
            "\n",
            "    accuracy                           0.94       478\n",
            "   macro avg       0.78      0.75      0.76       478\n",
            "weighted avg       0.93      0.94      0.93       478\n",
            "\n"
          ]
        },
        {
          "data": {
            "image/png": "[encoded data removed]",
            "text/plain": [
              "<Figure size 432x288 with 2 Axes>"
            ]
          },
          "metadata": {
            "needs_background": "light"
          },
          "output_type": "display_data"
        }
      ],
      "source": [
        "# Final model is trained using C=0.3 and training dataset only which generates the best results among all hyperparameters\n",
        "model2 = LogisticRegression(penalty='l2', C=0.3, max_iter=1000)\n",
        "model2.fit(final_embeddings_train, y_train)\n",
        "y_test_pred = model2.predict(final_embeddings_test)\n",
        "print(\"Test Accuracy:\", accuracy_score(y_test, y_test_pred))\n",
        "print(\"Test AUC:\", roc_auc_score(y_test, y_test_pred))\n",
        "print(\"Test Classification Report:\\n\", classification_report(y_test, y_test_pred))\n",
        "conf_matrix = confusion_matrix(y_test, y_test_pred)\n",
        "plot_confusion_matrix(model2, final_embeddings_test, y_test, cmap='Blues')\n",
        "plt.title(f'Confusion Matrix for C={C}')\n",
        "plt.show()"
      ]
    },
    {
      "cell_type": "code",
      "execution_count": 58,
      "metadata": {},
      "outputs": [
        {
          "name": "stdout",
          "output_type": "stream",
          "text": [
            "Epoch 1/5\n",
            "120/120 [==============================] - 2s 5ms/step - loss: 1.3820 - accuracy: 0.8968 - val_loss: 0.5351 - val_accuracy: 0.9434\n",
            "Epoch 2/5\n",
            "120/120 [==============================] - 0s 2ms/step - loss: 0.7199 - accuracy: 0.9059 - val_loss: 0.3086 - val_accuracy: 0.9476\n",
            "Epoch 3/5\n",
            "120/120 [==============================] - 0s 2ms/step - loss: 0.4628 - accuracy: 0.9172 - val_loss: 0.2834 - val_accuracy: 0.9434\n",
            "Epoch 4/5\n",
            "120/120 [==============================] - 0s 1ms/step - loss: 0.2948 - accuracy: 0.9219 - val_loss: 0.2588 - val_accuracy: 0.9434\n",
            "Epoch 5/5\n",
            "120/120 [==============================] - 0s 1ms/step - loss: 0.2261 - accuracy: 0.9345 - val_loss: 0.1532 - val_accuracy: 0.9518\n",
            "15/15 [==============================] - 0s 811us/step\n",
            "Validation Accuracy: 0.9517819706498952\n",
            "Validation AUC: 0.6611111111111112\n",
            "              precision    recall  f1-score   support\n",
            "\n",
            "           0       0.64      0.33      0.44        27\n",
            "           1       0.96      0.99      0.97       450\n",
            "\n",
            "    accuracy                           0.95       477\n",
            "   macro avg       0.80      0.66      0.71       477\n",
            "weighted avg       0.94      0.95      0.94       477\n",
            "\n"
          ]
        },
        {
          "data": {
            "image/png": "[encoded data removed]",
            "text/plain": [
              "<Figure size 576x432 with 2 Axes>"
            ]
          },
          "metadata": {
            "needs_background": "light"
          },
          "output_type": "display_data"
        }
      ],
      "source": [
        "import tensorflow as tf\n",
        "import seaborn as sns\n",
        "\n",
        "\n",
        "# Build the sequential Nueral Net model\n",
        "model3 = tf.keras.Sequential([\n",
        "    tf.keras.layers.Input(shape=(128,)),\n",
        "    tf.keras.layers.Dense(128, activation='relu'),\n",
        "    tf.keras.layers.Dropout(0.5),\n",
        "    tf.keras.layers.Dense(1, activation='sigmoid')\n",
        "])\n",
        "\n",
        "# Compile the model\n",
        "model3.compile(optimizer='adam',\n",
        "              loss='binary_crossentropy',\n",
        "              metrics=['accuracy'])\n",
        "\n",
        "# Train the model\n",
        "model3.fit(final_embeddings_train, y_train, epochs=5, batch_size=32, validation_data=(final_embeddings_val, y_val))\n",
        "\n",
        "# Evaluate the model\n",
        "y_pred = (model3.predict(final_embeddings_val) > 0.5).astype(\"int32\")\n",
        "print(\"Validation Accuracy:\", accuracy_score(y_val, y_pred))\n",
        "print(\"Validation AUC:\", roc_auc_score(y_val, y_pred))\n",
        "print(classification_report(y_val, y_pred))\n",
        "conf_matrix = confusion_matrix(y_val, y_pred)\n",
        "plt.figure(figsize=(8, 6))\n",
        "sns.heatmap(conf_matrix, annot=True, fmt='d', cmap='Blues', xticklabels=['0', '1'], yticklabels=['0', '1'])\n",
        "plt.title('Confusion Matrix')\n",
        "plt.xlabel('Predicted Label')\n",
        "plt.ylabel('True Label')\n",
        "plt.show()"
      ]
    },
    {
      "cell_type": "code",
      "execution_count": 59,
      "metadata": {},
      "outputs": [
        {
          "name": "stdout",
          "output_type": "stream",
          "text": [
            "Epoch 1/10\n",
            "60/60 [==============================] - 1s 4ms/step - loss: 3.2202 - accuracy: 0.8433 - val_loss: 1.4140 - val_accuracy: 0.9434\n",
            "Epoch 2/10\n",
            "60/60 [==============================] - 0s 2ms/step - loss: 1.8158 - accuracy: 0.8868 - val_loss: 0.9921 - val_accuracy: 0.9434\n",
            "Epoch 3/10\n",
            "60/60 [==============================] - 0s 2ms/step - loss: 1.3555 - accuracy: 0.8934 - val_loss: 0.7486 - val_accuracy: 0.9455\n",
            "Epoch 4/10\n",
            "60/60 [==============================] - 0s 2ms/step - loss: 1.0073 - accuracy: 0.9070 - val_loss: 0.5816 - val_accuracy: 0.9434\n",
            "Epoch 5/10\n",
            "60/60 [==============================] - 0s 2ms/step - loss: 0.7923 - accuracy: 0.9109 - val_loss: 0.4292 - val_accuracy: 0.9434\n",
            "Epoch 6/10\n",
            "60/60 [==============================] - 0s 2ms/step - loss: 0.5611 - accuracy: 0.9162 - val_loss: 0.3132 - val_accuracy: 0.9497\n",
            "Epoch 7/10\n",
            "60/60 [==============================] - 0s 2ms/step - loss: 0.4151 - accuracy: 0.9198 - val_loss: 0.2619 - val_accuracy: 0.9518\n",
            "Epoch 8/10\n",
            "60/60 [==============================] - 0s 2ms/step - loss: 0.3363 - accuracy: 0.9235 - val_loss: 0.2460 - val_accuracy: 0.9518\n",
            "Epoch 9/10\n",
            "60/60 [==============================] - 0s 2ms/step - loss: 0.2938 - accuracy: 0.9280 - val_loss: 0.2152 - val_accuracy: 0.9518\n",
            "Epoch 10/10\n",
            "60/60 [==============================] - 0s 2ms/step - loss: 0.2465 - accuracy: 0.9369 - val_loss: 0.1648 - val_accuracy: 0.9497\n",
            "15/15 [==============================] - 0s 740us/step\n",
            "Validation Accuracy: 0.949685534591195\n",
            "Validation AUC: 0.6774074074074075\n",
            "              precision    recall  f1-score   support\n",
            "\n",
            "           0       0.59      0.37      0.45        27\n",
            "           1       0.96      0.98      0.97       450\n",
            "\n",
            "    accuracy                           0.95       477\n",
            "   macro avg       0.78      0.68      0.71       477\n",
            "weighted avg       0.94      0.95      0.94       477\n",
            "\n"
          ]
        },
        {
          "data": {
            "image/png": "[encoded data removed]",
            "text/plain": [
              "<Figure size 576x432 with 2 Axes>"
            ]
          },
          "metadata": {
            "needs_background": "light"
          },
          "output_type": "display_data"
        }
      ],
      "source": [
        "import tensorflow as tf\n",
        "\n",
        "model4 = tf.keras.Sequential([\n",
        "    tf.keras.layers.Input(shape=(128,)),  \n",
        "    tf.keras.layers.Dense(256, activation='relu'),\n",
        "    tf.keras.layers.Dropout(0.7),\n",
        "    tf.keras.layers.Dense(1, activation='sigmoid')\n",
        "])\n",
        "\n",
        "# Compile the model\n",
        "model4.compile(optimizer='adam',\n",
        "              loss='binary_crossentropy',\n",
        "              metrics=['accuracy'])\n",
        "\n",
        "# Train the model\n",
        "model4.fit(final_embeddings_train, y_train, epochs=10, batch_size=64, validation_data=(final_embeddings_val, y_val))  # Increase epochs and batch size\n",
        "\n",
        "# Evaluate the model\n",
        "y_pred = (model4.predict(final_embeddings_val) > 0.5).astype(\"int32\")\n",
        "print(\"Validation Accuracy:\", accuracy_score(y_val, y_pred))\n",
        "print(\"Validation AUC:\", roc_auc_score(y_val, y_pred))\n",
        "print(classification_report(y_val, y_pred))\n",
        "conf_matrix = confusion_matrix(y_val, y_pred)\n",
        "plt.figure(figsize=(8, 6))\n",
        "sns.heatmap(conf_matrix, annot=True, fmt='d', cmap='Blues', xticklabels=['0', '1'], yticklabels=['0', '1'])\n",
        "plt.title('Confusion Matrix')\n",
        "plt.xlabel('Predicted Label')\n",
        "plt.ylabel('True Label')\n",
        "plt.show()"
      ]
    },
    {
      "cell_type": "code",
      "execution_count": 60,
      "metadata": {},
      "outputs": [
        {
          "name": "stdout",
          "output_type": "stream",
          "text": [
            "15/15 [==============================] - 0s 1ms/step\n",
            "Test Accuracy: 0.9456066945606695\n",
            "Test AUC: 0.77811004784689\n",
            "              precision    recall  f1-score   support\n",
            "\n",
            "           0       0.69      0.58      0.63        38\n",
            "           1       0.96      0.98      0.97       440\n",
            "\n",
            "    accuracy                           0.95       478\n",
            "   macro avg       0.83      0.78      0.80       478\n",
            "weighted avg       0.94      0.95      0.94       478\n",
            "\n"
          ]
        },
        {
          "data": {
            "image/png": "[encoded data removed]",
            "text/plain": [
              "<Figure size 576x432 with 2 Axes>"
            ]
          },
          "metadata": {
            "needs_background": "light"
          },
          "output_type": "display_data"
        }
      ],
      "source": [
        "y_pred = (model4.predict(final_embeddings_test) > 0.5).astype(\"int32\")\n",
        "print(\"Test Accuracy:\", accuracy_score(y_test, y_pred))\n",
        "print(\"Test AUC:\", roc_auc_score(y_test, y_pred))\n",
        "print(classification_report(y_test, y_pred))\n",
        "conf_matrix = confusion_matrix(y_test, y_pred)\n",
        "plt.figure(figsize=(8, 6))\n",
        "sns.heatmap(conf_matrix, annot=True, fmt='d', cmap='Blues', xticklabels=['0', '1'], yticklabels=['0', '1'])\n",
        "plt.title('Confusion Matrix')\n",
        "plt.xlabel('Predicted Label')\n",
        "plt.ylabel('True Label')\n",
        "plt.show()"
      ]
    },
    {
      "attachments": {},
      "cell_type": "markdown",
      "metadata": {},
      "source": [
        "### Observations based on the results obtained above\n",
        "\n",
        "##### 1. In the Logistic regression performed, when C=0.3, we are getting the best accuracy, AUC and F1 score.\n",
        "##### 2. Two differnt architecture of Neural Net was trained having different dropout rates to regularize the neural network\n",
        "##### 3. The second architecture with higher dropout rate performs better\n",
        "##### 4. Among Logistic Regression and Neural Network, Logistic Regression performs better since it has higher AUC and better F1 score than Neural Network for both the classes even though the accuracy of both the models is similar\n",
        "\n"
      ]
    }
  ],
  "metadata": {
    "accelerator": "GPU",
    "colab": {
      "provenance": []
    },
    "gpuClass": "standard",
    "kernelspec": {
      "display_name": "Python 3",
      "language": "python",
      "name": "python3"
    },
    "language_info": {
      "codemirror_mode": {
        "name": "ipython",
        "version": 3
      },
      "file_extension": ".py",
      "mimetype": "text/x-python",
      "name": "python",
      "nbconvert_exporter": "python",
      "pygments_lexer": "ipython3",
      "version": "3.9.12"
    }
  },
  "nbformat": 4,
  "nbformat_minor": 0
}
